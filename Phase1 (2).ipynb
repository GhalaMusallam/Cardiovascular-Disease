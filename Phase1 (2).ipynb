{
  "metadata": {
    "kernelspec": {
      "name": "python",
      "display_name": "Python (Pyodide)",
      "language": "python"
    },
    "language_info": {
      "codemirror_mode": {
        "name": "python",
        "version": 3
      },
      "file_extension": ".py",
      "mimetype": "text/x-python",
      "name": "python",
      "nbconvert_exporter": "python",
      "pygments_lexer": "ipython3",
      "version": "3.8"
    }
  },
  "nbformat_minor": 4,
  "nbformat": 4,
  "cells": [
    {
      "cell_type": "markdown",
      "source": "\n# Cardiovascular Disease Dataset\n\n1. Dataset Description:\nThis dataset includes medical records of patients, such as age, gender, cholesterol levels, and blood pressure, along with the target variable showing the presence or absence of cardiovascular disease. The data was collected from \"Kaggle\" to understand the risk factors and improve predictive models for cardiovascular disease.\n\n2. Goal:\nThis dataset aims to help detect cardiovascular disease early through predictive modeling, identifying key risk factors, and developing models to predict cardiovascular problems for personalized and timely interventions by healthcare professionals. By focusing on this dataset, we're dealing with classification and clustering.\n\n5. Link to dataset:\nhttps://www.kaggle.com/datasets/sulianova/cardiovascular-disease-dataset\n\n6. General information:\n\n   \n   -Number of attributes: 14\n\n   -Attributes type: Integer - Decimal.\n\n   -Number of objects: 70000\n\n   -The class label: presence or absence of cardiovascular disease. \n",
      "metadata": {}
    },
    {
      "cell_type": "code",
      "source": "import pandas as pd",
      "metadata": {
        "trusted": true
      },
      "outputs": [],
      "execution_count": 19
    },
    {
      "cell_type": "code",
      "source": "cardiovascular=pd.read_csv('healthData.csv')\ndf=pd.DataFrame(cardiovascular)",
      "metadata": {
        "trusted": true
      },
      "outputs": [],
      "execution_count": 20
    },
    {
      "cell_type": "code",
      "source": "print('The number of rows:')\nrows=df.shape[0]\nprint(rows)",
      "metadata": {
        "trusted": true
      },
      "outputs": [
        {
          "name": "stdout",
          "text": "The number of rows:\n70000\n",
          "output_type": "stream"
        }
      ],
      "execution_count": 21
    },
    {
      "cell_type": "code",
      "source": "print('The number of columns:')\ncolumns=df.shape[1]\nprint(columns)",
      "metadata": {
        "trusted": true
      },
      "outputs": [
        {
          "name": "stdout",
          "text": "The number of columns:\n14\n",
          "output_type": "stream"
        }
      ],
      "execution_count": 22
    },
    {
      "cell_type": "code",
      "source": "print('Information about dataset:')\nprint(df.info)",
      "metadata": {
        "trusted": true
      },
      "outputs": [
        {
          "name": "stdout",
          "text": "Information about dataset:\n<bound method DataFrame.info of        Unnamed: 0       id      age  gender  height  weight  ap_hi  ap_lo  \\\n0               0      0.0  18393.0       1   168.0    62.0  110.0   80.0   \n1               1      1.0  20228.0       0   156.0    85.0  140.0   90.0   \n2               2      2.0  18857.0       0   165.0    64.0  130.0   70.0   \n3               3      3.0  17623.0       1   169.0    82.0  150.0  100.0   \n4               4      4.0  17474.0       0   156.0    56.0  100.0   60.0   \n...           ...      ...      ...     ...     ...     ...    ...    ...   \n69995       69995  99993.0  19240.0       1   168.0    76.0  120.0   80.0   \n69996       69996  99995.0  22601.0       0   158.0   126.0  140.0   90.0   \n69997       69997  99996.0  19066.0       1   183.0   105.0  180.0   90.0   \n69998       69998  99998.0  22431.0       0   163.0    72.0  135.0   80.0   \n69999       69999  99999.0  20540.0       0   170.0    72.0  120.0   80.0   \n\n       cholesterol  gluc  smoke  alco  active  cardio  \n0                0     0      0     0       1       0  \n1                2     0      0     0       1       1  \n2                2     0      0     0       0       1  \n3                0     0      0     0       1       1  \n4                0     0      0     0       0       0  \n...            ...   ...    ...   ...     ...     ...  \n69995            0     0      1     0       1       0  \n69996            1     1      0     0       1       1  \n69997            2     0      0     1       0       1  \n69998            0     1      0     0       0       1  \n69999            1     0      0     0       1       0  \n\n[70000 rows x 14 columns]>\n",
          "output_type": "stream"
        }
      ],
      "execution_count": 23
    },
    {
      "cell_type": "code",
      "source": "df.to_csv(\"DataFrame.csv\")",
      "metadata": {
        "trusted": true
      },
      "outputs": [],
      "execution_count": 24
    }
  ]
}